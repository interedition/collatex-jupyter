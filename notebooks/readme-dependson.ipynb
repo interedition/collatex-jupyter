{
 "cells": [
  {
   "cell_type": "markdown",
   "metadata": {},
   "source": [
    "List jar dependencies and where to find them, if necessary"
   ]
  },
  {
   "cell_type": "code",
   "execution_count": 1,
   "metadata": {},
   "outputs": [],
   "source": [
    "@file:Repository(\"*mavenLocal\")\n",
    "@file:Repository(\"\"http://maven.huygens.knaw.nl/repository/\"\")\n",
    "@file:DependsOn(\"eu.interedition:collatex-core:1.7.1\")\n",
    "@file:DependsOn(\"nl.knaw.huygens:graphviz-wrapper:1.1\")"
   ]
  },
  {
   "cell_type": "markdown",
   "metadata": {},
   "source": [
    "Show the classpath"
   ]
  },
  {
   "cell_type": "code",
   "execution_count": 2,
   "metadata": {},
   "outputs": [
    {
     "data": {
      "text/plain": [
       "Current classpath (23 paths):\n",
       "/home/bramb/.local/lib/python3.6/site-packages/run_kotlin_kernel/jars/jupyter-lib-0.8.2.61.jar\n",
       "/home/bramb/.local/lib/python3.6/site-packages/run_kotlin_kernel/jars/kotlin-script-runtime-1.4.20-dev-2342.jar\n",
       "/home/bramb/.local/lib/python3.6/site-packages/run_kotlin_kernel/jars/kotlin-reflect-1.4.20-dev-2342.jar\n",
       "/home/bramb/.local/lib/python3.6/site-packages/run_kotlin_kernel/jars/kotlin-stdlib-1.4.20-dev-2342.jar\n",
       "/home/bramb/.local/lib/python3.6/site-packages/run_kotlin_kernel/jars/kotlin-stdlib-common-1.4.20-dev-2342.jar\n",
       "/home/bramb/.local/lib/python3.6/site-packages/run_kotlin_kernel/jars/annotations-13.0.jar\n",
       "/home/bramb/.ivy2/cache/eu.interedition/collatex-core/jars/collatex-core-1.7.1.jar\n",
       "/home/bramb/.ivy2/cache/nl.knaw.huygens/graphviz-wrapper/jars/graphviz-wrapper-1.1.jar\n",
       "/home/bramb/.ivy2/cache/org.jetbrains.kotlin/kotlin-stdlib-jdk8/jars/kotlin-stdlib-jdk8-1.4.0.jar\n",
       "/home/bramb/.ivy2/cache/org.jetbrains.kotlin/kotlin-stdlib/jars/kotlin-stdlib-1.4.0.jar\n",
       "/home/bramb/.ivy2/cache/org.jetbrains.kotlin/kotlin-stdlib-common/jars/kotlin-stdlib-common-1.4.0.jar\n",
       "/home/bramb/.ivy2/cache/org.jetbrains/annotations/jars/annotations-13.0.jar\n",
       "/home/bramb/.ivy2/cache/org.jetbrains.kotlin/kotlin-stdlib-jdk7/jars/kotlin-stdlib-jdk7-1.4.0.jar\n",
       "/home/bramb/.ivy2/cache/nl.knaw.huygens.alexandria/lmnl/jars/lmnl-2.3.3-SNAPSHOT.jar\n",
       "/home/bramb/.ivy2/cache/org.antlr/antlr4-runtime/jars/antlr4-runtime-4.8-1.jar\n",
       "/home/bramb/.ivy2/cache/org.antlr/antlr4/jars/antlr4-4.8-1.jar\n",
       "/home/bramb/.ivy2/cache/org.antlr/antlr-runtime/jars/antlr-runtime-3.5.2.jar\n",
       "/home/bramb/.ivy2/cache/org.antlr/ST4/jars/ST4-4.3.jar\n",
       "/home/bramb/.ivy2/cache/org.abego.treelayout/org.abego.treelayout.core/bundles/org.abego.treelayout.core-1.0.3.jar\n",
       "/home/bramb/.ivy2/cache/org.glassfish/javax.json/bundles/javax.json-1.0.4.jar\n",
       "/home/bramb/.ivy2/cache/com.ibm.icu/icu4j/jars/icu4j-61.1.jar\n",
       "/home/bramb/.ivy2/cache/org.jetbrains.kotlin/kotlin-stdlib/jars/kotlin-stdlib-1.4.10.jar\n",
       "/home/bramb/.ivy2/cache/org.jetbrains.kotlin/kotlin-stdlib-common/jars/kotlin-stdlib-common-1.4.10.jar"
      ]
     },
     "execution_count": 2,
     "metadata": {},
     "output_type": "execute_result"
    }
   ],
   "source": [
    ":classpath"
   ]
  },
  {
   "cell_type": "markdown",
   "metadata": {},
   "source": [
    "Imports"
   ]
  },
  {
   "cell_type": "code",
   "execution_count": 3,
   "metadata": {},
   "outputs": [],
   "source": [
    "import eu.interedition.collatex.*\n",
    "import eu.interedition.collatex.dekker.*\n",
    "import eu.interedition.collatex.simple.*\n",
    "import eu.interedition.collatex.matching.*\n",
    "import nl.knaw.huygens.graphviz.DotEngine"
   ]
  },
  {
   "cell_type": "markdown",
   "metadata": {},
   "source": [
    "Some convenience functions"
   ]
  },
  {
   "cell_type": "code",
   "execution_count": 4,
   "metadata": {},
   "outputs": [],
   "source": [
    "import java.io.*\n",
    "\n",
    "val collationAlgorithm = DekkerAlgorithm(EqualityTokenComparator())\n",
    "\n",
    "fun createWitnesses(vararg contents: String): List<SimpleWitness>{\n",
    "    val SIGLA = \"ABCDEFGHIJKLMNOPQRSTUVWXYZ\"\n",
    "    return contents.mapIndexed {i,c -> SimpleWitness(SIGLA[i].toString(),c) }\n",
    "}\n",
    "\n",
    "fun collate(witnesses:List<SimpleWitness>): VariantGraph {\n",
    "    val graph = VariantGraph()\n",
    "    collationAlgorithm.collate(graph,witnesses)\n",
    "    return graph\n",
    "}\n",
    "\n",
    "fun VariantGraph.asDot(): String {\n",
    "    val writer = StringWriter()\n",
    "    SimpleVariantGraphSerializer(this).toDot(writer)\n",
    "    return writer.toString()\n",
    "}\n",
    "\n",
    "fun VariantGraph.asSVGPair(): Pair<String, String> =\n",
    "    Pair(\n",
    "        \"image/svg+xml\",\n",
    "        DotEngine().renderAs(\n",
    "            \"svg\",\n",
    "            this.asDot()\n",
    "        )\n",
    "    )\n",
    "\n",
    "fun VariantGraph.show() = MIME(this.asSVGPair())\n"
   ]
  },
  {
   "cell_type": "markdown",
   "metadata": {},
   "source": [
    "And now, a use case:"
   ]
  },
  {
   "cell_type": "code",
   "execution_count": 5,
   "metadata": {},
   "outputs": [
    {
     "data": {
      "image/svg+xml": [
       "<?xml version=\"1.0\" encoding=\"UTF-8\" standalone=\"no\"?>\n",
       "<!DOCTYPE svg PUBLIC \"-//W3C//DTD SVG 1.1//EN\"\n",
       " \"http://www.w3.org/Graphics/SVG/1.1/DTD/svg11.dtd\">\n",
       "<!-- Generated by graphviz version 2.40.1 (20161225.0304)\n",
       " -->\n",
       "<!-- Title: G Pages: 1 -->\n",
       "<svg width=\"394pt\" height=\"587pt\"\n",
       " viewBox=\"0.00 0.00 393.84 587.00\" xmlns=\"http://www.w3.org/2000/svg\" xmlns:xlink=\"http://www.w3.org/1999/xlink\">\n",
       "<g id=\"graph0\" class=\"graph\" transform=\"scale(1 1) rotate(0) translate(4 583)\">\n",
       "<title>G</title>\n",
       "<polygon fill=\"#ffffff\" stroke=\"transparent\" points=\"-4,4 -4,-583 389.8426,-583 389.8426,4 -4,4\"/>\n",
       "<!-- v0 -->\n",
       "<g id=\"node1\" class=\"node\">\n",
       "<title>v0</title>\n",
       "<ellipse fill=\"none\" stroke=\"#000000\" cx=\"271.8426\" cy=\"-561\" rx=\"27\" ry=\"18\"/>\n",
       "</g>\n",
       "<!-- v1 -->\n",
       "<g id=\"node2\" class=\"node\">\n",
       "<title>v1</title>\n",
       "<ellipse fill=\"none\" stroke=\"#000000\" cx=\"83.8426\" cy=\"-474\" rx=\"83.6854\" ry=\"18\"/>\n",
       "<text text-anchor=\"middle\" x=\"83.8426\" y=\"-470.3\" font-family=\"Times,serif\" font-size=\"14.00\" fill=\"#000000\">Over de Atlantische </text>\n",
       "</g>\n",
       "<!-- v0&#45;&gt;v1 -->\n",
       "<g id=\"edge1\" class=\"edge\">\n",
       "<title>v0&#45;&gt;v1</title>\n",
       "<path fill=\"none\" stroke=\"#000000\" d=\"M249.5382,-550.6783C219.859,-536.9438 166.7027,-512.3449 128.5947,-494.7098\"/>\n",
       "<polygon fill=\"#000000\" stroke=\"#000000\" points=\"129.7993,-491.4106 119.254,-490.3872 126.8594,-497.7634 129.7993,-491.4106\"/>\n",
       "<text text-anchor=\"middle\" x=\"202.8426\" y=\"-513.8\" font-family=\"Times,serif\" font-size=\"14.00\" fill=\"#000000\">B, C</text>\n",
       "</g>\n",
       "<!-- v2 -->\n",
       "<g id=\"node3\" class=\"node\">\n",
       "<title>v2</title>\n",
       "<ellipse fill=\"none\" stroke=\"#000000\" cx=\"271.8426\" cy=\"-474\" rx=\"85.5853\" ry=\"18\"/>\n",
       "<text text-anchor=\"middle\" x=\"271.8426\" y=\"-470.3\" font-family=\"Times,serif\" font-size=\"14.00\" fill=\"#000000\">Op den Atlantischen </text>\n",
       "</g>\n",
       "<!-- v0&#45;&gt;v2 -->\n",
       "<g id=\"edge2\" class=\"edge\">\n",
       "<title>v0&#45;&gt;v2</title>\n",
       "<path fill=\"none\" stroke=\"#000000\" d=\"M271.8426,-542.9735C271.8426,-531.1918 271.8426,-515.5607 271.8426,-502.1581\"/>\n",
       "<polygon fill=\"#000000\" stroke=\"#000000\" points=\"275.3427,-502.0033 271.8426,-492.0034 268.3427,-502.0034 275.3427,-502.0033\"/>\n",
       "<text text-anchor=\"middle\" x=\"276.8426\" y=\"-513.8\" font-family=\"Times,serif\" font-size=\"14.00\" fill=\"#000000\">A</text>\n",
       "</g>\n",
       "<!-- v8 -->\n",
       "<g id=\"node9\" class=\"node\">\n",
       "<title>v8</title>\n",
       "<ellipse fill=\"none\" stroke=\"#000000\" cx=\"343.8426\" cy=\"-18\" rx=\"27\" ry=\"18\"/>\n",
       "</g>\n",
       "<!-- v0&#45;&gt;v8 -->\n",
       "<g id=\"edge12\" class=\"edge\">\n",
       "<title>v0&#45;&gt;v8</title>\n",
       "<path fill=\"none\" stroke=\"#ffffff\" d=\"M296.8603,-554.1262C330.4181,-543.205 385.8426,-518.4406 385.8426,-474 385.8426,-474 385.8426,-474 385.8426,-105 385.8426,-82.2161 374.0163,-59.115 362.9147,-42.4487\"/>\n",
       "<polygon fill=\"#ffffff\" stroke=\"#ffffff\" points=\"365.5157,-40.0627 356.9014,-33.8946 359.789,-44.0883 365.5157,-40.0627\"/>\n",
       "</g>\n",
       "<!-- v3 -->\n",
       "<g id=\"node4\" class=\"node\">\n",
       "<title>v3</title>\n",
       "<ellipse fill=\"none\" stroke=\"#000000\" cx=\"241.8426\" cy=\"-387\" rx=\"72.2875\" ry=\"18\"/>\n",
       "<text text-anchor=\"middle\" x=\"241.8426\" y=\"-383.3\" font-family=\"Times,serif\" font-size=\"14.00\" fill=\"#000000\">Oceaan voer een </text>\n",
       "</g>\n",
       "<!-- v1&#45;&gt;v3 -->\n",
       "<g id=\"edge3\" class=\"edge\">\n",
       "<title>v1&#45;&gt;v3</title>\n",
       "<path fill=\"none\" stroke=\"#000000\" d=\"M114.3065,-457.2255C139.6044,-443.2957 175.7436,-423.3963 203.0968,-408.3347\"/>\n",
       "<polygon fill=\"#000000\" stroke=\"#000000\" points=\"204.9363,-411.3174 212.0079,-403.4279 201.5599,-405.1855 204.9363,-411.3174\"/>\n",
       "<text text-anchor=\"middle\" x=\"185.8426\" y=\"-426.8\" font-family=\"Times,serif\" font-size=\"14.00\" fill=\"#000000\">B, C</text>\n",
       "</g>\n",
       "<!-- v2&#45;&gt;v3 -->\n",
       "<g id=\"edge4\" class=\"edge\">\n",
       "<title>v2&#45;&gt;v3</title>\n",
       "<path fill=\"none\" stroke=\"#000000\" d=\"M265.6265,-455.9735C261.5236,-444.0751 256.067,-428.2508 251.4152,-414.7606\"/>\n",
       "<polygon fill=\"#000000\" stroke=\"#000000\" points=\"254.6194,-413.3161 248.0506,-405.0034 248.0018,-415.5981 254.6194,-413.3161\"/>\n",
       "<text text-anchor=\"middle\" x=\"263.8426\" y=\"-426.8\" font-family=\"Times,serif\" font-size=\"14.00\" fill=\"#000000\">A</text>\n",
       "</g>\n",
       "<!-- v4 -->\n",
       "<g id=\"node5\" class=\"node\">\n",
       "<title>v4</title>\n",
       "<ellipse fill=\"none\" stroke=\"#000000\" cx=\"313.8426\" cy=\"-300\" rx=\"43.5923\" ry=\"18\"/>\n",
       "<text text-anchor=\"middle\" x=\"313.8426\" y=\"-296.3\" font-family=\"Times,serif\" font-size=\"14.00\" fill=\"#000000\">vreselijk </text>\n",
       "</g>\n",
       "<!-- v3&#45;&gt;v4 -->\n",
       "<g id=\"edge5\" class=\"edge\">\n",
       "<title>v3&#45;&gt;v4</title>\n",
       "<path fill=\"none\" stroke=\"#000000\" d=\"M256.761,-368.9735C267.2973,-356.2422 281.5534,-339.0161 293.1826,-324.9642\"/>\n",
       "<polygon fill=\"#000000\" stroke=\"#000000\" points=\"295.9988,-327.0509 299.6781,-317.1154 290.606,-322.5879 295.9988,-327.0509\"/>\n",
       "<text text-anchor=\"middle\" x=\"286.8426\" y=\"-339.8\" font-family=\"Times,serif\" font-size=\"14.00\" fill=\"#000000\">C</text>\n",
       "</g>\n",
       "<!-- v5 -->\n",
       "<g id=\"node6\" class=\"node\">\n",
       "<title>v5</title>\n",
       "<ellipse fill=\"none\" stroke=\"#000000\" cx=\"162.8426\" cy=\"-246\" rx=\"64.189\" ry=\"18\"/>\n",
       "<text text-anchor=\"middle\" x=\"162.8426\" y=\"-242.3\" font-family=\"Times,serif\" font-size=\"14.00\" fill=\"#000000\">groote stoomer</text>\n",
       "</g>\n",
       "<!-- v3&#45;&gt;v5 -->\n",
       "<g id=\"edge7\" class=\"edge\">\n",
       "<title>v3&#45;&gt;v5</title>\n",
       "<path fill=\"none\" stroke=\"#000000\" d=\"M229.2534,-368.9249C225.4584,-363.2653 221.3674,-356.9441 217.8426,-351 202.5507,-325.2127 186.8511,-294.7702 176.1605,-273.3226\"/>\n",
       "<polygon fill=\"#000000\" stroke=\"#000000\" points=\"179.1933,-271.5599 171.6205,-264.1503 172.9198,-274.6652 179.1933,-271.5599\"/>\n",
       "<text text-anchor=\"middle\" x=\"222.8426\" y=\"-339.8\" font-family=\"Times,serif\" font-size=\"14.00\" fill=\"#000000\">A</text>\n",
       "</g>\n",
       "<!-- v6 -->\n",
       "<g id=\"node7\" class=\"node\">\n",
       "<title>v6</title>\n",
       "<ellipse fill=\"none\" stroke=\"#000000\" cx=\"287.8426\" cy=\"-192\" rx=\"55.7903\" ry=\"18\"/>\n",
       "<text text-anchor=\"middle\" x=\"287.8426\" y=\"-188.3\" font-family=\"Times,serif\" font-size=\"14.00\" fill=\"#000000\">grote stomer</text>\n",
       "</g>\n",
       "<!-- v3&#45;&gt;v6 -->\n",
       "<g id=\"edge6\" class=\"edge\">\n",
       "<title>v3&#45;&gt;v6</title>\n",
       "<path fill=\"none\" stroke=\"#000000\" d=\"M241.7353,-368.8978C241.9891,-347.7571 243.6026,-311.8725 250.8426,-282 256.1474,-260.112 265.961,-236.614 274.1488,-219.1185\"/>\n",
       "<polygon fill=\"#000000\" stroke=\"#000000\" points=\"277.3225,-220.5948 278.4914,-210.0646 271.0109,-217.5675 277.3225,-220.5948\"/>\n",
       "<text text-anchor=\"middle\" x=\"255.8426\" y=\"-296.3\" font-family=\"Times,serif\" font-size=\"14.00\" fill=\"#000000\">B</text>\n",
       "</g>\n",
       "<!-- v4&#45;&gt;v6 -->\n",
       "<g id=\"edge8\" class=\"edge\">\n",
       "<title>v4&#45;&gt;v6</title>\n",
       "<path fill=\"none\" stroke=\"#000000\" d=\"M309.432,-281.6793C305.3547,-264.7429 299.2371,-239.3311 294.5539,-219.8777\"/>\n",
       "<polygon fill=\"#000000\" stroke=\"#000000\" points=\"297.9314,-218.9532 292.188,-210.0502 291.1258,-220.5916 297.9314,-218.9532\"/>\n",
       "<text text-anchor=\"middle\" x=\"308.8426\" y=\"-242.3\" font-family=\"Times,serif\" font-size=\"14.00\" fill=\"#000000\">C</text>\n",
       "</g>\n",
       "<!-- v7 -->\n",
       "<g id=\"node8\" class=\"node\">\n",
       "<title>v7</title>\n",
       "<ellipse fill=\"none\" stroke=\"#000000\" cx=\"287.8426\" cy=\"-105\" rx=\"27\" ry=\"18\"/>\n",
       "<text text-anchor=\"middle\" x=\"287.8426\" y=\"-101.3\" font-family=\"Times,serif\" font-size=\"14.00\" fill=\"#000000\">.</text>\n",
       "</g>\n",
       "<!-- v5&#45;&gt;v7 -->\n",
       "<g id=\"edge9\" class=\"edge\">\n",
       "<title>v5&#45;&gt;v7</title>\n",
       "<path fill=\"none\" stroke=\"#000000\" d=\"M173.7451,-228.0401C183.2538,-212.9687 197.8416,-191.2069 212.8426,-174 228.0481,-156.5584 247.2914,-138.9296 262.4786,-125.8568\"/>\n",
       "<polygon fill=\"#000000\" stroke=\"#000000\" points=\"265.0882,-128.2326 270.4472,-119.093 260.5584,-122.8959 265.0882,-128.2326\"/>\n",
       "<text text-anchor=\"middle\" x=\"217.8426\" y=\"-188.3\" font-family=\"Times,serif\" font-size=\"14.00\" fill=\"#000000\">A</text>\n",
       "</g>\n",
       "<!-- v6&#45;&gt;v7 -->\n",
       "<g id=\"edge10\" class=\"edge\">\n",
       "<title>v6&#45;&gt;v7</title>\n",
       "<path fill=\"none\" stroke=\"#000000\" d=\"M287.8426,-173.9735C287.8426,-162.1918 287.8426,-146.5607 287.8426,-133.1581\"/>\n",
       "<polygon fill=\"#000000\" stroke=\"#000000\" points=\"291.3427,-133.0033 287.8426,-123.0034 284.3427,-133.0034 291.3427,-133.0033\"/>\n",
       "<text text-anchor=\"middle\" x=\"300.8426\" y=\"-144.8\" font-family=\"Times,serif\" font-size=\"14.00\" fill=\"#000000\">B, C</text>\n",
       "</g>\n",
       "<!-- v7&#45;&gt;v8 -->\n",
       "<g id=\"edge11\" class=\"edge\">\n",
       "<title>v7&#45;&gt;v8</title>\n",
       "<path fill=\"none\" stroke=\"#000000\" d=\"M298.6399,-88.2255C306.8519,-75.4677 318.287,-57.7024 327.601,-43.2325\"/>\n",
       "<polygon fill=\"#000000\" stroke=\"#000000\" points=\"330.6089,-45.026 333.0783,-34.723 324.7228,-41.2373 330.6089,-45.026\"/>\n",
       "<text text-anchor=\"middle\" x=\"340.3426\" y=\"-57.8\" font-family=\"Times,serif\" font-size=\"14.00\" fill=\"#000000\">A, B, C</text>\n",
       "</g>\n",
       "</g>\n",
       "</svg>\n"
      ]
     },
     "execution_count": 5,
     "metadata": {},
     "output_type": "execute_result"
    }
   ],
   "source": [
    "val textD1 = \"Op den Atlantischen Oceaan voer een groote stoomer.\";\n",
    "val textD9 = \"Over de Atlantische Oceaan voer een grote stomer.\";\n",
    "val textDMD1 = \"Over de Atlantische Oceaan voer een vreselijk grote stomer.\";\n",
    "\n",
    "val w = createWitnesses(textD1,textD9,textDMD1)\n",
    "val graph = collate(w)\n",
    "val jg = VariantGraph.JOIN.apply(graph)\n",
    "jg.show()"
   ]
  },
  {
   "cell_type": "code",
   "execution_count": null,
   "metadata": {},
   "outputs": [],
   "source": []
  }
 ],
 "metadata": {
  "kernelspec": {
   "display_name": "Kotlin",
   "language": "kotlin",
   "name": "kotlin"
  },
  "language_info": {
   "codemirror_mode": "text/x-kotlin",
   "file_extension": ".kt",
   "mimetype": "text/x-kotlin",
   "name": "kotlin",
   "pygments_lexer": "kotlin",
   "version": "1.4.20-dev-2342"
  }
 },
 "nbformat": 4,
 "nbformat_minor": 2
}
